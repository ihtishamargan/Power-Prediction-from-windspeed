{
 "cells": [
  {
   "cell_type": "code",
   "execution_count": 369,
   "metadata": {},
   "outputs": [],
   "source": [
    "import numpy as np\n",
    "import pandas as pd\n",
    "import matplotlib.pyplot as plt\n",
    "\n",
    "from sklearn.linear_model import LinearRegression\n",
    "from sklearn.model_selection import train_test_split\n",
    "from sklearn.preprocessing import MinMaxScaler\n",
    "from sklearn.metrics import mean_absolute_error,mean_squared_error\n",
    "from sklearn.tree import DecisionTreeRegressor\n",
    "from sklearn.ensemble import RandomForestRegressor"
   ]
  },
  {
   "cell_type": "code",
   "execution_count": 560,
   "metadata": {},
   "outputs": [],
   "source": [
    "def preprocess(df):\n",
    "    columns = df.columns.str.split(';')\n",
    "    df = df['ptime;time;windspeed [m/s];power [relative]'].str.split(pat = ';', expand = True)\n",
    "    df.columns = ['ptime', 'time', 'windspeed', 'power']\n",
    "    df['date'] = df.time.str.split(pat = ' ', expand = True)[0]\n",
    "    df['time'] = df.time.str.split(pat = ' ', expand = True)[1]\n",
    "    df['hours'] = df.time.str.split(pat = ':', expand = True)[0]\n",
    "    \n",
    "    df[['power', 'windspeed']] = df[['power', 'windspeed']].astype('float64')\n",
    "    df['hours'] = df['hours'].astype('int')\n",
    "    \n",
    "    return df"
   ]
  },
  {
   "cell_type": "markdown",
   "metadata": {},
   "source": [
    "## Data preprocessing and EDA"
   ]
  },
  {
   "cell_type": "code",
   "execution_count": 589,
   "metadata": {},
   "outputs": [
    {
     "data": {
      "text/html": [
       "<div>\n",
       "<style scoped>\n",
       "    .dataframe tbody tr th:only-of-type {\n",
       "        vertical-align: middle;\n",
       "    }\n",
       "\n",
       "    .dataframe tbody tr th {\n",
       "        vertical-align: top;\n",
       "    }\n",
       "\n",
       "    .dataframe thead th {\n",
       "        text-align: right;\n",
       "    }\n",
       "</style>\n",
       "<table border=\"1\" class=\"dataframe\">\n",
       "  <thead>\n",
       "    <tr style=\"text-align: right;\">\n",
       "      <th></th>\n",
       "      <th>ptime;time;windspeed [m/s];power [relative]</th>\n",
       "    </tr>\n",
       "  </thead>\n",
       "  <tbody>\n",
       "    <tr>\n",
       "      <th>0</th>\n",
       "      <td>2019-11-01;2019-11-01 01:00:00;7.47;0.32</td>\n",
       "    </tr>\n",
       "    <tr>\n",
       "      <th>1</th>\n",
       "      <td>2019-11-01;2019-11-01 02:00:00;7.62;0.22</td>\n",
       "    </tr>\n",
       "    <tr>\n",
       "      <th>2</th>\n",
       "      <td>2019-11-01;2019-11-01 03:00:00;8.35;0.27</td>\n",
       "    </tr>\n",
       "    <tr>\n",
       "      <th>3</th>\n",
       "      <td>2019-11-01;2019-11-01 04:00:00;8.13;0.12</td>\n",
       "    </tr>\n",
       "    <tr>\n",
       "      <th>4</th>\n",
       "      <td>2019-11-01;2019-11-01 05:00:00;7.73;0.25</td>\n",
       "    </tr>\n",
       "    <tr>\n",
       "      <th>...</th>\n",
       "      <td>...</td>\n",
       "    </tr>\n",
       "    <tr>\n",
       "      <th>1225</th>\n",
       "      <td>2019-12-20;2019-12-22 02:00:00;9.64;0.55</td>\n",
       "    </tr>\n",
       "    <tr>\n",
       "      <th>1226</th>\n",
       "      <td>2019-12-20;2019-12-22 03:00:00;9.28;0.94</td>\n",
       "    </tr>\n",
       "    <tr>\n",
       "      <th>1227</th>\n",
       "      <td>2019-12-20;2019-12-22 04:00:00;7.53;0.35</td>\n",
       "    </tr>\n",
       "    <tr>\n",
       "      <th>1228</th>\n",
       "      <td>2019-12-20;2019-12-22 05:00:00;6.47;0.09</td>\n",
       "    </tr>\n",
       "    <tr>\n",
       "      <th>1229</th>\n",
       "      <td>2019-12-20;2019-12-22 06:00:00;5.94;0.13</td>\n",
       "    </tr>\n",
       "  </tbody>\n",
       "</table>\n",
       "<p>1230 rows × 1 columns</p>\n",
       "</div>"
      ],
      "text/plain": [
       "     ptime;time;windspeed [m/s];power [relative]\n",
       "0       2019-11-01;2019-11-01 01:00:00;7.47;0.32\n",
       "1       2019-11-01;2019-11-01 02:00:00;7.62;0.22\n",
       "2       2019-11-01;2019-11-01 03:00:00;8.35;0.27\n",
       "3       2019-11-01;2019-11-01 04:00:00;8.13;0.12\n",
       "4       2019-11-01;2019-11-01 05:00:00;7.73;0.25\n",
       "...                                          ...\n",
       "1225    2019-12-20;2019-12-22 02:00:00;9.64;0.55\n",
       "1226    2019-12-20;2019-12-22 03:00:00;9.28;0.94\n",
       "1227    2019-12-20;2019-12-22 04:00:00;7.53;0.35\n",
       "1228    2019-12-20;2019-12-22 05:00:00;6.47;0.09\n",
       "1229    2019-12-20;2019-12-22 06:00:00;5.94;0.13\n",
       "\n",
       "[1230 rows x 1 columns]"
      ]
     },
     "execution_count": 589,
     "metadata": {},
     "output_type": "execute_result"
    }
   ],
   "source": [
    "measurement = pd.read_csv('measurement.csv')\n",
    "measurement"
   ]
  },
  {
   "cell_type": "code",
   "execution_count": 590,
   "metadata": {},
   "outputs": [
    {
     "data": {
      "text/html": [
       "<div>\n",
       "<style scoped>\n",
       "    .dataframe tbody tr th:only-of-type {\n",
       "        vertical-align: middle;\n",
       "    }\n",
       "\n",
       "    .dataframe tbody tr th {\n",
       "        vertical-align: top;\n",
       "    }\n",
       "\n",
       "    .dataframe thead th {\n",
       "        text-align: right;\n",
       "    }\n",
       "</style>\n",
       "<table border=\"1\" class=\"dataframe\">\n",
       "  <thead>\n",
       "    <tr style=\"text-align: right;\">\n",
       "      <th></th>\n",
       "      <th>ptime</th>\n",
       "      <th>time</th>\n",
       "      <th>windspeed</th>\n",
       "      <th>power</th>\n",
       "      <th>date</th>\n",
       "      <th>hours</th>\n",
       "    </tr>\n",
       "  </thead>\n",
       "  <tbody>\n",
       "    <tr>\n",
       "      <th>0</th>\n",
       "      <td>2019-11-01</td>\n",
       "      <td>01:00:00</td>\n",
       "      <td>7.47</td>\n",
       "      <td>0.32</td>\n",
       "      <td>2019-11-01</td>\n",
       "      <td>1</td>\n",
       "    </tr>\n",
       "    <tr>\n",
       "      <th>1</th>\n",
       "      <td>2019-11-01</td>\n",
       "      <td>02:00:00</td>\n",
       "      <td>7.62</td>\n",
       "      <td>0.22</td>\n",
       "      <td>2019-11-01</td>\n",
       "      <td>2</td>\n",
       "    </tr>\n",
       "    <tr>\n",
       "      <th>2</th>\n",
       "      <td>2019-11-01</td>\n",
       "      <td>03:00:00</td>\n",
       "      <td>8.35</td>\n",
       "      <td>0.27</td>\n",
       "      <td>2019-11-01</td>\n",
       "      <td>3</td>\n",
       "    </tr>\n",
       "    <tr>\n",
       "      <th>3</th>\n",
       "      <td>2019-11-01</td>\n",
       "      <td>04:00:00</td>\n",
       "      <td>8.13</td>\n",
       "      <td>0.12</td>\n",
       "      <td>2019-11-01</td>\n",
       "      <td>4</td>\n",
       "    </tr>\n",
       "    <tr>\n",
       "      <th>4</th>\n",
       "      <td>2019-11-01</td>\n",
       "      <td>05:00:00</td>\n",
       "      <td>7.73</td>\n",
       "      <td>0.25</td>\n",
       "      <td>2019-11-01</td>\n",
       "      <td>5</td>\n",
       "    </tr>\n",
       "    <tr>\n",
       "      <th>...</th>\n",
       "      <td>...</td>\n",
       "      <td>...</td>\n",
       "      <td>...</td>\n",
       "      <td>...</td>\n",
       "      <td>...</td>\n",
       "      <td>...</td>\n",
       "    </tr>\n",
       "    <tr>\n",
       "      <th>1225</th>\n",
       "      <td>2019-12-20</td>\n",
       "      <td>02:00:00</td>\n",
       "      <td>9.64</td>\n",
       "      <td>0.55</td>\n",
       "      <td>2019-12-22</td>\n",
       "      <td>2</td>\n",
       "    </tr>\n",
       "    <tr>\n",
       "      <th>1226</th>\n",
       "      <td>2019-12-20</td>\n",
       "      <td>03:00:00</td>\n",
       "      <td>9.28</td>\n",
       "      <td>0.94</td>\n",
       "      <td>2019-12-22</td>\n",
       "      <td>3</td>\n",
       "    </tr>\n",
       "    <tr>\n",
       "      <th>1227</th>\n",
       "      <td>2019-12-20</td>\n",
       "      <td>04:00:00</td>\n",
       "      <td>7.53</td>\n",
       "      <td>0.35</td>\n",
       "      <td>2019-12-22</td>\n",
       "      <td>4</td>\n",
       "    </tr>\n",
       "    <tr>\n",
       "      <th>1228</th>\n",
       "      <td>2019-12-20</td>\n",
       "      <td>05:00:00</td>\n",
       "      <td>6.47</td>\n",
       "      <td>0.09</td>\n",
       "      <td>2019-12-22</td>\n",
       "      <td>5</td>\n",
       "    </tr>\n",
       "    <tr>\n",
       "      <th>1229</th>\n",
       "      <td>2019-12-20</td>\n",
       "      <td>06:00:00</td>\n",
       "      <td>5.94</td>\n",
       "      <td>0.13</td>\n",
       "      <td>2019-12-22</td>\n",
       "      <td>6</td>\n",
       "    </tr>\n",
       "  </tbody>\n",
       "</table>\n",
       "<p>1230 rows × 6 columns</p>\n",
       "</div>"
      ],
      "text/plain": [
       "           ptime      time  windspeed  power        date  hours\n",
       "0     2019-11-01  01:00:00       7.47   0.32  2019-11-01      1\n",
       "1     2019-11-01  02:00:00       7.62   0.22  2019-11-01      2\n",
       "2     2019-11-01  03:00:00       8.35   0.27  2019-11-01      3\n",
       "3     2019-11-01  04:00:00       8.13   0.12  2019-11-01      4\n",
       "4     2019-11-01  05:00:00       7.73   0.25  2019-11-01      5\n",
       "...          ...       ...        ...    ...         ...    ...\n",
       "1225  2019-12-20  02:00:00       9.64   0.55  2019-12-22      2\n",
       "1226  2019-12-20  03:00:00       9.28   0.94  2019-12-22      3\n",
       "1227  2019-12-20  04:00:00       7.53   0.35  2019-12-22      4\n",
       "1228  2019-12-20  05:00:00       6.47   0.09  2019-12-22      5\n",
       "1229  2019-12-20  06:00:00       5.94   0.13  2019-12-22      6\n",
       "\n",
       "[1230 rows x 6 columns]"
      ]
     },
     "execution_count": 590,
     "metadata": {},
     "output_type": "execute_result"
    }
   ],
   "source": [
    "#pre processing dataframe to obtain seperate columns\n",
    "measurement = preprocess(measurement)\n",
    "measurement"
   ]
  },
  {
   "cell_type": "code",
   "execution_count": 614,
   "metadata": {},
   "outputs": [
    {
     "data": {
      "text/plain": [
       "<matplotlib.legend.Legend at 0x1d53d710370>"
      ]
     },
     "execution_count": 614,
     "metadata": {},
     "output_type": "execute_result"
    },
    {
     "data": {
      "image/png": "[encoded data removed]",
      "text/plain": [
       "<Figure size 432x288 with 1 Axes>"
      ]
     },
     "metadata": {
      "needs_background": "light"
     },
     "output_type": "display_data"
    }
   ],
   "source": [
    "# Comparing distribution of windspeed and power\n",
    "plt.plot(measurement.windspeed/10)\n",
    "plt.plot(measurement.power)\n",
    "plt.xlabel(\"Values\")\n",
    "\n",
    "plt.legend([\"Windspeed\", \"Power\"])"
   ]
  },
  {
   "cell_type": "markdown",
   "metadata": {},
   "source": [
    "#### From above plot, it can be seen that power and wind has strong correlation. "
   ]
  },
  {
   "cell_type": "code",
   "execution_count": 613,
   "metadata": {},
   "outputs": [
    {
     "data": {
      "text/plain": [
       "<matplotlib.legend.Legend at 0x1d53d7c9970>"
      ]
     },
     "execution_count": 613,
     "metadata": {},
     "output_type": "execute_result"
    },
    {
     "data": {
      "image/png": "[encoded data removed]",
      "text/plain": [
       "<Figure size 432x288 with 1 Axes>"
      ]
     },
     "metadata": {
      "needs_background": "light"
     },
     "output_type": "display_data"
    }
   ],
   "source": [
    "# Comparing distribution of windspeed and power\n",
    "plt.plot(measurement.hours[:200]/50)\n",
    "plt.plot(measurement.power[:200])\n",
    "\n",
    "plt.xlabel(\"Values\")\n",
    "#plt.ylabel(\"Power\")\n",
    "plt.legend([\"Hours\", \"Power\"])"
   ]
  },
  {
   "cell_type": "markdown",
   "metadata": {},
   "source": [
    "#### I will work only with windspeed, hours and power for predictions as date does not look to have much influence on the model."
   ]
  },
  {
   "cell_type": "code",
   "execution_count": 429,
   "metadata": {},
   "outputs": [
    {
     "data": {
      "text/plain": [
       "0"
      ]
     },
     "execution_count": 429,
     "metadata": {},
     "output_type": "execute_result"
    }
   ],
   "source": [
    "# checking null values in the data\n",
    "measurement.isna().sum().sum()"
   ]
  },
  {
   "cell_type": "code",
   "execution_count": 431,
   "metadata": {},
   "outputs": [
    {
     "data": {
      "text/html": [
       "<div>\n",
       "<style scoped>\n",
       "    .dataframe tbody tr th:only-of-type {\n",
       "        vertical-align: middle;\n",
       "    }\n",
       "\n",
       "    .dataframe tbody tr th {\n",
       "        vertical-align: top;\n",
       "    }\n",
       "\n",
       "    .dataframe thead th {\n",
       "        text-align: right;\n",
       "    }\n",
       "</style>\n",
       "<table border=\"1\" class=\"dataframe\">\n",
       "  <thead>\n",
       "    <tr style=\"text-align: right;\">\n",
       "      <th></th>\n",
       "      <th>windspeed</th>\n",
       "      <th>power</th>\n",
       "      <th>hours</th>\n",
       "    </tr>\n",
       "  </thead>\n",
       "  <tbody>\n",
       "    <tr>\n",
       "      <th>count</th>\n",
       "      <td>1230.000000</td>\n",
       "      <td>1230.000000</td>\n",
       "      <td>1230.000000</td>\n",
       "    </tr>\n",
       "    <tr>\n",
       "      <th>mean</th>\n",
       "      <td>6.277439</td>\n",
       "      <td>0.190943</td>\n",
       "      <td>11.460976</td>\n",
       "    </tr>\n",
       "    <tr>\n",
       "      <th>std</th>\n",
       "      <td>2.806720</td>\n",
       "      <td>0.199379</td>\n",
       "      <td>6.931586</td>\n",
       "    </tr>\n",
       "    <tr>\n",
       "      <th>min</th>\n",
       "      <td>0.200000</td>\n",
       "      <td>0.000000</td>\n",
       "      <td>0.000000</td>\n",
       "    </tr>\n",
       "    <tr>\n",
       "      <th>25%</th>\n",
       "      <td>4.250000</td>\n",
       "      <td>0.030000</td>\n",
       "      <td>5.000000</td>\n",
       "    </tr>\n",
       "    <tr>\n",
       "      <th>50%</th>\n",
       "      <td>6.310000</td>\n",
       "      <td>0.130000</td>\n",
       "      <td>11.000000</td>\n",
       "    </tr>\n",
       "    <tr>\n",
       "      <th>75%</th>\n",
       "      <td>8.227500</td>\n",
       "      <td>0.290000</td>\n",
       "      <td>17.000000</td>\n",
       "    </tr>\n",
       "    <tr>\n",
       "      <th>max</th>\n",
       "      <td>16.710000</td>\n",
       "      <td>1.050000</td>\n",
       "      <td>23.000000</td>\n",
       "    </tr>\n",
       "  </tbody>\n",
       "</table>\n",
       "</div>"
      ],
      "text/plain": [
       "         windspeed        power        hours\n",
       "count  1230.000000  1230.000000  1230.000000\n",
       "mean      6.277439     0.190943    11.460976\n",
       "std       2.806720     0.199379     6.931586\n",
       "min       0.200000     0.000000     0.000000\n",
       "25%       4.250000     0.030000     5.000000\n",
       "50%       6.310000     0.130000    11.000000\n",
       "75%       8.227500     0.290000    17.000000\n",
       "max      16.710000     1.050000    23.000000"
      ]
     },
     "execution_count": 431,
     "metadata": {},
     "output_type": "execute_result"
    }
   ],
   "source": [
    "measurement.describe()"
   ]
  },
  {
   "cell_type": "markdown",
   "metadata": {},
   "source": [
    "### Train and Test datatset\n",
    "\n",
    "I am using forecast datatset as test datatset and measurement datatset as train set."
   ]
  },
  {
   "cell_type": "code",
   "execution_count": 592,
   "metadata": {},
   "outputs": [],
   "source": [
    "forecast = pd.read_csv('forecast.csv')\n",
    "forecast = preprocess(forecast)\n",
    "X = np.column_stack((measurement.windspeed, measurement.hours))\n",
    "y = measurement.power\n",
    "\n",
    "X_forecast = np.column_stack((np.array(forecast.windspeed), np.array(forecast.hours)))\n",
    "y_forecast = np.array(forecast.power).reshape(-1,1)\n",
    "\n",
    "y_forecast_predict = dt_regr.predict(X_forecast)\n",
    "\n",
    "\n",
    "#X_train, X_test, y_train, y_test = train_test_split(X, y, test_size = 0.20)\n",
    "X_train = X\n",
    "X_test = X_forecast\n",
    "y_train = y\n",
    "y_test = y_forecast"
   ]
  },
  {
   "cell_type": "markdown",
   "metadata": {},
   "source": [
    "## Linear Regression as baseline model"
   ]
  },
  {
   "cell_type": "code",
   "execution_count": 615,
   "metadata": {},
   "outputs": [
    {
     "name": "stdout",
     "output_type": "stream",
     "text": [
      "0.5886024193797486\n"
     ]
    },
    {
     "data": {
      "image/png": "[encoded data removed]",
      "text/plain": [
       "<Figure size 432x288 with 1 Axes>"
      ]
     },
     "metadata": {
      "needs_background": "light"
     },
     "output_type": "display_data"
    }
   ],
   "source": [
    "regr = LinearRegression()\n",
    " \n",
    "regr.fit(X_train, y_train)\n",
    "print(regr.score(X_test, y_test))\n",
    "y_pred = regr.predict(X_test)\n",
    "plt.scatter(X_test.astype('float64')[:,0], y_test.astype('float64'), color ='b')\n",
    "plt.plot(X_test.astype('float64')[:, 0], y_pred.astype('float64'), color ='k')\n",
    "plt.xlabel(\"X (Windspeed)\")\n",
    "plt.ylabel(\"Y (Power)\")\n",
    "#plt.legend([\"Ground Truth\", \"Predicted\"])\n",
    "plt.show()\n",
    "# Data scatter of predicted values"
   ]
  },
  {
   "cell_type": "code",
   "execution_count": 594,
   "metadata": {},
   "outputs": [
    {
     "name": "stdout",
     "output_type": "stream",
     "text": [
      "MAE: 0.0792486813448155\n",
      "MSE: 0.010539518433173072\n",
      "RMSE: 0.1026621567724596\n"
     ]
    }
   ],
   "source": [
    "mae = mean_absolute_error(y_true=y_test,y_pred=y_pred)\n",
    "#squared True returns MSE value, False returns RMSE value.\n",
    "mse = mean_squared_error(y_true=y_test,y_pred=y_pred) #default=True\n",
    "rmse = mean_squared_error(y_true=y_test,y_pred=y_pred,squared=False)\n",
    " \n",
    "print(\"MAE:\",mae)\n",
    "print(\"MSE:\",mse)\n",
    "print(\"RMSE:\",rmse)"
   ]
  },
  {
   "cell_type": "markdown",
   "metadata": {},
   "source": [
    "## Decsision Tree"
   ]
  },
  {
   "cell_type": "code",
   "execution_count": 595,
   "metadata": {},
   "outputs": [
    {
     "data": {
      "text/plain": [
       "0.4451379772967784"
      ]
     },
     "execution_count": 595,
     "metadata": {},
     "output_type": "execute_result"
    }
   ],
   "source": [
    "dt_regr = DecisionTreeRegressor()\n",
    "dt_regr.fit(X, y)\n",
    "dt_regr.score(X_test, y_test)"
   ]
  },
  {
   "cell_type": "code",
   "execution_count": 616,
   "metadata": {},
   "outputs": [
    {
     "data": {
      "image/png": "[encoded data removed]",
      "text/plain": [
       "<Figure size 432x288 with 1 Axes>"
      ]
     },
     "metadata": {
      "needs_background": "light"
     },
     "output_type": "display_data"
    }
   ],
   "source": [
    "y_pred_dt = dt_regr.predict(X_test)\n",
    "\n",
    "plt.scatter(X_test.astype('float64')[:,0], y_test.astype('float64'))\n",
    "plt.scatter(X_test.astype('float64')[:, 0], y_pred_dt.astype('float64'))\n",
    "plt.xlabel(\"Windspeed )\")\n",
    "plt.ylabel(\"Power\")\n",
    "plt.legend([\"Ground Truth\", \"Predicted\"])\n",
    "plt.show()\n",
    "# Data scatter of predicted values\n",
    "\n"
   ]
  },
  {
   "cell_type": "code",
   "execution_count": 597,
   "metadata": {},
   "outputs": [
    {
     "name": "stdout",
     "output_type": "stream",
     "text": [
      "MAE: 0.07901851851851852\n",
      "MSE: 0.014214907407407409\n",
      "RMSE: 0.11922628656218145\n"
     ]
    }
   ],
   "source": [
    "mae = mean_absolute_error(y_true=y_test,y_pred=y_pred_dt)\n",
    "#squared True returns MSE value, False returns RMSE value.\n",
    "mse = mean_squared_error(y_true=y_test,y_pred=y_pred_dt) #default=True\n",
    "rmse = mean_squared_error(y_true=y_test,y_pred=y_pred_dt,squared=False)\n",
    " \n",
    "print(\"MAE:\",mae)\n",
    "print(\"MSE:\",mse)\n",
    "print(\"RMSE:\",rmse)"
   ]
  },
  {
   "cell_type": "markdown",
   "metadata": {},
   "source": [
    "## SVM Regression"
   ]
  },
  {
   "cell_type": "code",
   "execution_count": 598,
   "metadata": {},
   "outputs": [
    {
     "data": {
      "text/plain": [
       "0.6367343427349701"
      ]
     },
     "execution_count": 598,
     "metadata": {},
     "output_type": "execute_result"
    }
   ],
   "source": [
    "from sklearn import svm\n",
    "svm = svm.SVR()\n",
    "svm.fit(X_train, y_train)\n",
    "svm.score(X_test, y_test)"
   ]
  },
  {
   "cell_type": "code",
   "execution_count": 599,
   "metadata": {},
   "outputs": [
    {
     "name": "stdout",
     "output_type": "stream",
     "text": [
      "MAE: 0.07385888196513297\n",
      "MSE: 0.00930643560205479\n",
      "RMSE: 0.09646986888171244\n"
     ]
    }
   ],
   "source": [
    "y_predict_svm = svm.predict(X_test)\n",
    "mae = mean_absolute_error(y_true=y_test,y_pred=y_predict_svm)\n",
    "#squared True returns MSE value, False returns RMSE value.\n",
    "mse = mean_squared_error(y_true=y_test,y_pred=y_predict_svm) #default=True\n",
    "rmse = mean_squared_error(y_true=y_test,y_pred=y_predict_svm,squared=False)\n",
    " \n",
    "print(\"MAE:\",mae)\n",
    "print(\"MSE:\",mse)\n",
    "print(\"RMSE:\",rmse)"
   ]
  },
  {
   "cell_type": "markdown",
   "metadata": {},
   "source": [
    "By comparing loss function of all models, we can clearly see that SVM is performing better. So, I will use it as my final model to do predictions. Even though from plots its look like that Decission Trees are predicting better than exact values, but it also predicts wrong values having greater distance from actual value."
   ]
  },
  {
   "cell_type": "markdown",
   "metadata": {},
   "source": [
    "## Forecasting"
   ]
  },
  {
   "cell_type": "code",
   "execution_count": 577,
   "metadata": {},
   "outputs": [
    {
     "data": {
      "text/html": [
       "<div>\n",
       "<style scoped>\n",
       "    .dataframe tbody tr th:only-of-type {\n",
       "        vertical-align: middle;\n",
       "    }\n",
       "\n",
       "    .dataframe tbody tr th {\n",
       "        vertical-align: top;\n",
       "    }\n",
       "\n",
       "    .dataframe thead th {\n",
       "        text-align: right;\n",
       "    }\n",
       "</style>\n",
       "<table border=\"1\" class=\"dataframe\">\n",
       "  <thead>\n",
       "    <tr style=\"text-align: right;\">\n",
       "      <th></th>\n",
       "      <th>ptime</th>\n",
       "      <th>time</th>\n",
       "      <th>windspeed</th>\n",
       "      <th>power</th>\n",
       "      <th>date</th>\n",
       "      <th>hours</th>\n",
       "    </tr>\n",
       "  </thead>\n",
       "  <tbody>\n",
       "    <tr>\n",
       "      <th>0</th>\n",
       "      <td>2019-12-21</td>\n",
       "      <td>01:00:00</td>\n",
       "      <td>7.29</td>\n",
       "      <td>0.14</td>\n",
       "      <td>2019-12-21</td>\n",
       "      <td>1</td>\n",
       "    </tr>\n",
       "    <tr>\n",
       "      <th>1</th>\n",
       "      <td>2019-12-21</td>\n",
       "      <td>02:00:00</td>\n",
       "      <td>7.07</td>\n",
       "      <td>0.17</td>\n",
       "      <td>2019-12-21</td>\n",
       "      <td>2</td>\n",
       "    </tr>\n",
       "    <tr>\n",
       "      <th>2</th>\n",
       "      <td>2019-12-21</td>\n",
       "      <td>03:00:00</td>\n",
       "      <td>7.27</td>\n",
       "      <td>0.20</td>\n",
       "      <td>2019-12-21</td>\n",
       "      <td>3</td>\n",
       "    </tr>\n",
       "    <tr>\n",
       "      <th>3</th>\n",
       "      <td>2019-12-21</td>\n",
       "      <td>04:00:00</td>\n",
       "      <td>7.46</td>\n",
       "      <td>0.15</td>\n",
       "      <td>2019-12-21</td>\n",
       "      <td>4</td>\n",
       "    </tr>\n",
       "    <tr>\n",
       "      <th>4</th>\n",
       "      <td>2019-12-21</td>\n",
       "      <td>05:00:00</td>\n",
       "      <td>6.89</td>\n",
       "      <td>0.26</td>\n",
       "      <td>2019-12-21</td>\n",
       "      <td>5</td>\n",
       "    </tr>\n",
       "    <tr>\n",
       "      <th>...</th>\n",
       "      <td>...</td>\n",
       "      <td>...</td>\n",
       "      <td>...</td>\n",
       "      <td>...</td>\n",
       "      <td>...</td>\n",
       "      <td>...</td>\n",
       "    </tr>\n",
       "    <tr>\n",
       "      <th>265</th>\n",
       "      <td>2019-12-30</td>\n",
       "      <td>02:00:00</td>\n",
       "      <td>5.72</td>\n",
       "      <td>0.52</td>\n",
       "      <td>2020-01-01</td>\n",
       "      <td>2</td>\n",
       "    </tr>\n",
       "    <tr>\n",
       "      <th>266</th>\n",
       "      <td>2019-12-30</td>\n",
       "      <td>03:00:00</td>\n",
       "      <td>5.31</td>\n",
       "      <td>0.00</td>\n",
       "      <td>2020-01-01</td>\n",
       "      <td>3</td>\n",
       "    </tr>\n",
       "    <tr>\n",
       "      <th>267</th>\n",
       "      <td>2019-12-30</td>\n",
       "      <td>04:00:00</td>\n",
       "      <td>5.25</td>\n",
       "      <td>0.09</td>\n",
       "      <td>2020-01-01</td>\n",
       "      <td>4</td>\n",
       "    </tr>\n",
       "    <tr>\n",
       "      <th>268</th>\n",
       "      <td>2019-12-30</td>\n",
       "      <td>05:00:00</td>\n",
       "      <td>5.22</td>\n",
       "      <td>0.14</td>\n",
       "      <td>2020-01-01</td>\n",
       "      <td>5</td>\n",
       "    </tr>\n",
       "    <tr>\n",
       "      <th>269</th>\n",
       "      <td>2019-12-30</td>\n",
       "      <td>06:00:00</td>\n",
       "      <td>5.48</td>\n",
       "      <td>0.75</td>\n",
       "      <td>2020-01-01</td>\n",
       "      <td>6</td>\n",
       "    </tr>\n",
       "  </tbody>\n",
       "</table>\n",
       "<p>270 rows × 6 columns</p>\n",
       "</div>"
      ],
      "text/plain": [
       "          ptime      time  windspeed  power        date  hours\n",
       "0    2019-12-21  01:00:00       7.29   0.14  2019-12-21      1\n",
       "1    2019-12-21  02:00:00       7.07   0.17  2019-12-21      2\n",
       "2    2019-12-21  03:00:00       7.27   0.20  2019-12-21      3\n",
       "3    2019-12-21  04:00:00       7.46   0.15  2019-12-21      4\n",
       "4    2019-12-21  05:00:00       6.89   0.26  2019-12-21      5\n",
       "..          ...       ...        ...    ...         ...    ...\n",
       "265  2019-12-30  02:00:00       5.72   0.52  2020-01-01      2\n",
       "266  2019-12-30  03:00:00       5.31   0.00  2020-01-01      3\n",
       "267  2019-12-30  04:00:00       5.25   0.09  2020-01-01      4\n",
       "268  2019-12-30  05:00:00       5.22   0.14  2020-01-01      5\n",
       "269  2019-12-30  06:00:00       5.48   0.75  2020-01-01      6\n",
       "\n",
       "[270 rows x 6 columns]"
      ]
     },
     "execution_count": 577,
     "metadata": {},
     "output_type": "execute_result"
    }
   ],
   "source": [
    "forecast"
   ]
  },
  {
   "cell_type": "code",
   "execution_count": 601,
   "metadata": {},
   "outputs": [],
   "source": [
    "y_forecast_predict = svm.predict(X_forecast)"
   ]
  },
  {
   "cell_type": "code",
   "execution_count": 607,
   "metadata": {},
   "outputs": [
    {
     "name": "stdout",
     "output_type": "stream",
     "text": [
      "actual :  [0.14]   prediction:   0.23\n",
      "actual :  [0.17]   prediction:   0.21\n",
      "actual :  [0.2]   prediction:   0.22\n",
      "actual :  [0.15]   prediction:   0.23\n",
      "actual :  [0.26]   prediction:   0.18\n",
      "actual :  [0.05]   prediction:   0.13\n",
      "actual :  [0.]   prediction:   0.08\n",
      "actual :  [0.]   prediction:   0.08\n",
      "actual :  [0.1]   prediction:   0.14\n",
      "actual :  [0.19]   prediction:   0.19\n",
      "actual :  [0.21]   prediction:   0.19\n",
      "actual :  [0.18]   prediction:   0.22\n",
      "actual :  [0.21]   prediction:   0.21\n",
      "actual :  [0.21]   prediction:   0.24\n",
      "actual :  [0.22]   prediction:   0.24\n",
      "actual :  [0.11]   prediction:   0.19\n",
      "actual :  [0.1]   prediction:   0.18\n",
      "actual :  [0.24]   prediction:   0.16\n",
      "actual :  [0.32]   prediction:   0.21\n",
      "actual :  [0.13]   prediction:   0.25\n",
      "actual :  [0.49]   prediction:   0.28\n",
      "actual :  [0.03]   prediction:   0.25\n",
      "actual :  [0.48]   prediction:   0.29\n",
      "actual :  [0.3]   prediction:   0.43\n",
      "actual :  [0.43]   prediction:   0.51\n",
      "actual :  [0.41]   prediction:   0.45\n",
      "actual :  [0.3]   prediction:   0.34\n",
      "actual :  [0.22]   prediction:   0.25\n",
      "actual :  [0.23]   prediction:   0.15\n",
      "actual :  [0.16]   prediction:   0.18\n",
      "actual :  [0.3]   prediction:   0.20\n",
      "actual :  [0.27]   prediction:   0.18\n",
      "actual :  [0.15]   prediction:   0.23\n",
      "actual :  [0.14]   prediction:   0.20\n",
      "actual :  [0.19]   prediction:   0.18\n",
      "actual :  [0.18]   prediction:   0.15\n",
      "actual :  [0.23]   prediction:   0.14\n",
      "actual :  [0.06]   prediction:   0.15\n",
      "actual :  [0.18]   prediction:   0.17\n",
      "actual :  [0.01]   prediction:   0.13\n",
      "actual :  [0.07]   prediction:   0.13\n",
      "actual :  [0.47]   prediction:   0.32\n",
      "actual :  [0.35]   prediction:   0.44\n",
      "actual :  [0.51]   prediction:   0.54\n",
      "actual :  [0.48]   prediction:   0.54\n",
      "actual :  [0.71]   prediction:   0.53\n",
      "actual :  [0.39]   prediction:   0.41\n",
      "actual :  [0.51]   prediction:   0.34\n",
      "actual :  [0.22]   prediction:   0.30\n",
      "actual :  [0.22]   prediction:   0.31\n",
      "actual :  [0.28]   prediction:   0.32\n",
      "actual :  [0.29]   prediction:   0.33\n",
      "actual :  [0.19]   prediction:   0.19\n",
      "actual :  [0.11]   prediction:   0.16\n",
      "actual :  [0.14]   prediction:   0.08\n",
      "actual :  [0.13]   prediction:   0.12\n",
      "actual :  [0.3]   prediction:   0.22\n",
      "actual :  [0.1]   prediction:   0.21\n",
      "actual :  [0.27]   prediction:   0.34\n",
      "actual :  [0.39]   prediction:   0.25\n",
      "actual :  [0.05]   prediction:   0.16\n",
      "actual :  [0.03]   prediction:   0.11\n",
      "actual :  [0.]   prediction:   0.15\n",
      "actual :  [0.43]   prediction:   0.21\n",
      "actual :  [0.5]   prediction:   0.31\n",
      "actual :  [0.16]   prediction:   0.25\n",
      "actual :  [0.52]   prediction:   0.35\n",
      "actual :  [0.15]   prediction:   0.19\n",
      "actual :  [0.23]   prediction:   0.32\n",
      "actual :  [0.18]   prediction:   0.29\n",
      "actual :  [0.07]   prediction:   0.26\n",
      "actual :  [0.2]   prediction:   0.27\n",
      "actual :  [0.12]   prediction:   0.20\n",
      "actual :  [0.13]   prediction:   0.15\n",
      "actual :  [0.05]   prediction:   0.12\n",
      "actual :  [0.16]   prediction:   0.17\n",
      "actual :  [0.1]   prediction:   0.20\n",
      "actual :  [0.36]   prediction:   0.23\n",
      "actual :  [0.16]   prediction:   0.22\n",
      "actual :  [0.18]   prediction:   0.20\n",
      "actual :  [0.15]   prediction:   0.22\n",
      "actual :  [0.2]   prediction:   0.27\n",
      "actual :  [0.33]   prediction:   0.37\n",
      "actual :  [0.42]   prediction:   0.36\n",
      "actual :  [0.68]   prediction:   0.53\n",
      "actual :  [0.7]   prediction:   0.60\n",
      "actual :  [0.23]   prediction:   0.42\n",
      "actual :  [0.36]   prediction:   0.35\n",
      "actual :  [0.27]   prediction:   0.45\n",
      "actual :  [0.32]   prediction:   0.44\n",
      "actual :  [0.47]   prediction:   0.37\n",
      "actual :  [0.38]   prediction:   0.50\n",
      "actual :  [0.81]   prediction:   0.60\n",
      "actual :  [0.42]   prediction:   0.43\n",
      "actual :  [0.05]   prediction:   0.16\n",
      "actual :  [0.17]   prediction:   0.27\n",
      "actual :  [0.22]   prediction:   0.23\n",
      "actual :  [0.17]   prediction:   0.21\n",
      "actual :  [0.17]   prediction:   0.16\n",
      "actual :  [0.22]   prediction:   0.17\n",
      "actual :  [0.27]   prediction:   0.23\n",
      "actual :  [0.29]   prediction:   0.28\n",
      "actual :  [0.53]   prediction:   0.37\n",
      "actual :  [0.22]   prediction:   0.26\n",
      "actual :  [0.31]   prediction:   0.26\n",
      "actual :  [0.35]   prediction:   0.30\n",
      "actual :  [0.36]   prediction:   0.28\n",
      "actual :  [0.38]   prediction:   0.27\n",
      "actual :  [0.31]   prediction:   0.23\n",
      "actual :  [0.37]   prediction:   0.26\n",
      "actual :  [0.28]   prediction:   0.18\n",
      "actual :  [0.08]   prediction:   0.11\n",
      "actual :  [0.08]   prediction:   0.11\n",
      "actual :  [0.08]   prediction:   0.10\n",
      "actual :  [0.12]   prediction:   0.09\n",
      "actual :  [0.07]   prediction:   0.08\n",
      "actual :  [0.08]   prediction:   0.07\n",
      "actual :  [0.1]   prediction:   0.06\n",
      "actual :  [0.2]   prediction:   0.10\n",
      "actual :  [0.14]   prediction:   0.09\n",
      "actual :  [0.04]   prediction:   0.03\n",
      "actual :  [0.02]   prediction:   0.02\n",
      "actual :  [0.02]   prediction:   0.02\n",
      "actual :  [0.02]   prediction:   0.03\n",
      "actual :  [0.02]   prediction:   0.06\n",
      "actual :  [0.02]   prediction:   0.06\n",
      "actual :  [0.02]   prediction:   0.07\n",
      "actual :  [0.02]   prediction:   0.10\n",
      "actual :  [0.02]   prediction:   0.09\n",
      "actual :  [0.02]   prediction:   0.08\n",
      "actual :  [0.03]   prediction:   0.08\n",
      "actual :  [0.02]   prediction:   0.09\n",
      "actual :  [0.02]   prediction:   0.09\n",
      "actual :  [0.11]   prediction:   0.09\n",
      "actual :  [0.02]   prediction:   0.08\n",
      "actual :  [0.05]   prediction:   0.09\n",
      "actual :  [0.06]   prediction:   0.09\n",
      "actual :  [0.02]   prediction:   0.09\n",
      "actual :  [0.02]   prediction:   0.12\n",
      "actual :  [0.02]   prediction:   0.11\n",
      "actual :  [0.02]   prediction:   0.09\n",
      "actual :  [0.21]   prediction:   0.09\n",
      "actual :  [0.09]   prediction:   0.09\n",
      "actual :  [0.02]   prediction:   0.08\n",
      "actual :  [0.]   prediction:   0.06\n",
      "actual :  [0.01]   prediction:   0.05\n",
      "actual :  [0.]   prediction:   0.04\n",
      "actual :  [0.02]   prediction:   0.04\n",
      "actual :  [0.08]   prediction:   0.06\n",
      "actual :  [0.06]   prediction:   0.10\n",
      "actual :  [0.1]   prediction:   0.14\n",
      "actual :  [0.16]   prediction:   0.16\n",
      "actual :  [0.23]   prediction:   0.14\n",
      "actual :  [0.4]   prediction:   0.10\n",
      "actual :  [0.11]   prediction:   0.10\n",
      "actual :  [0.06]   prediction:   0.12\n",
      "actual :  [0.15]   prediction:   0.10\n",
      "actual :  [0.]   prediction:   0.08\n",
      "actual :  [0.]   prediction:   0.08\n",
      "actual :  [0.]   prediction:   0.08\n",
      "actual :  [0.08]   prediction:   0.09\n",
      "actual :  [0.]   prediction:   0.09\n",
      "actual :  [0.]   prediction:   0.09\n",
      "actual :  [0.]   prediction:   0.08\n",
      "actual :  [0.]   prediction:   0.07\n",
      "actual :  [0.]   prediction:   0.05\n",
      "actual :  [0.]   prediction:   0.05\n",
      "actual :  [0.]   prediction:   0.06\n",
      "actual :  [0.]   prediction:   0.04\n",
      "actual :  [0.]   prediction:   0.02\n",
      "actual :  [0.]   prediction:   0.03\n",
      "actual :  [0.]   prediction:   0.03\n",
      "actual :  [0.02]   prediction:   0.04\n",
      "actual :  [0.]   prediction:   0.05\n",
      "actual :  [0.]   prediction:   0.06\n",
      "actual :  [0.]   prediction:   0.07\n",
      "actual :  [0.]   prediction:   0.08\n",
      "actual :  [0.02]   prediction:   0.09\n",
      "actual :  [0.08]   prediction:   0.09\n",
      "actual :  [0.06]   prediction:   0.09\n",
      "actual :  [0.03]   prediction:   0.10\n",
      "actual :  [0.13]   prediction:   0.10\n",
      "actual :  [0.]   prediction:   0.10\n",
      "actual :  [0.09]   prediction:   0.11\n",
      "actual :  [0.01]   prediction:   0.11\n",
      "actual :  [0.09]   prediction:   0.11\n",
      "actual :  [0.07]   prediction:   0.12\n",
      "actual :  [0.21]   prediction:   0.13\n",
      "actual :  [0.05]   prediction:   0.12\n",
      "actual :  [0.04]   prediction:   0.11\n",
      "actual :  [0.16]   prediction:   0.12\n",
      "actual :  [0.02]   prediction:   0.11\n",
      "actual :  [0.]   prediction:   0.07\n",
      "actual :  [0.]   prediction:   0.07\n",
      "actual :  [0.05]   prediction:   0.10\n",
      "actual :  [0.01]   prediction:   0.09\n",
      "actual :  [0.03]   prediction:   0.08\n",
      "actual :  [0.06]   prediction:   0.09\n",
      "actual :  [0.]   prediction:   0.09\n",
      "actual :  [0.]   prediction:   0.08\n",
      "actual :  [0.]   prediction:   0.08\n",
      "actual :  [0.]   prediction:   0.08\n",
      "actual :  [0.]   prediction:   0.08\n",
      "actual :  [0.]   prediction:   0.08\n",
      "actual :  [0.]   prediction:   0.08\n",
      "actual :  [0.]   prediction:   0.08\n",
      "actual :  [0.]   prediction:   0.09\n",
      "actual :  [0.]   prediction:   0.09\n",
      "actual :  [0.1]   prediction:   0.10\n",
      "actual :  [0.]   prediction:   0.10\n",
      "actual :  [0.]   prediction:   0.11\n",
      "actual :  [0.]   prediction:   0.09\n",
      "actual :  [0.]   prediction:   0.10\n",
      "actual :  [0.08]   prediction:   0.09\n",
      "actual :  [0.]   prediction:   0.09\n",
      "actual :  [0.]   prediction:   0.11\n",
      "actual :  [0.]   prediction:   0.07\n",
      "actual :  [0.03]   prediction:   0.09\n",
      "actual :  [0.07]   prediction:   0.07\n",
      "actual :  [0.06]   prediction:   0.08\n",
      "actual :  [0.01]   prediction:   0.09\n",
      "actual :  [0.04]   prediction:   0.09\n",
      "actual :  [0.02]   prediction:   0.10\n",
      "actual :  [0.06]   prediction:   0.10\n",
      "actual :  [0.02]   prediction:   0.11\n",
      "actual :  [0.]   prediction:   0.10\n",
      "actual :  [0.]   prediction:   0.09\n",
      "actual :  [0.]   prediction:   0.10\n",
      "actual :  [0.12]   prediction:   0.10\n",
      "actual :  [0.02]   prediction:   0.10\n",
      "actual :  [0.]   prediction:   0.11\n",
      "actual :  [0.14]   prediction:   0.10\n",
      "actual :  [0.]   prediction:   0.10\n",
      "actual :  [0.06]   prediction:   0.11\n",
      "actual :  [0.03]   prediction:   0.11\n",
      "actual :  [0.01]   prediction:   0.11\n",
      "actual :  [0.03]   prediction:   0.10\n",
      "actual :  [0.15]   prediction:   0.11\n",
      "actual :  [0.02]   prediction:   0.11\n",
      "actual :  [0.]   prediction:   0.13\n",
      "actual :  [0.08]   prediction:   0.12\n",
      "actual :  [0.03]   prediction:   0.15\n",
      "actual :  [0.]   prediction:   0.08\n",
      "actual :  [0.1]   prediction:   0.06\n",
      "actual :  [0.]   prediction:   0.04\n",
      "actual :  [0.]   prediction:   0.05\n",
      "actual :  [0.]   prediction:   0.06\n",
      "actual :  [0.06]   prediction:   0.07\n",
      "actual :  [0.01]   prediction:   0.07\n",
      "actual :  [0.01]   prediction:   0.08\n",
      "actual :  [0.]   prediction:   0.08\n",
      "actual :  [0.1]   prediction:   0.08\n",
      "actual :  [0.]   prediction:   0.08\n",
      "actual :  [0.]   prediction:   0.08\n",
      "actual :  [0.]   prediction:   0.08\n",
      "actual :  [0.]   prediction:   0.09\n",
      "actual :  [0.]   prediction:   0.09\n",
      "actual :  [0.]   prediction:   0.09\n",
      "actual :  [0.01]   prediction:   0.08\n",
      "actual :  [0.]   prediction:   0.08\n",
      "actual :  [0.]   prediction:   0.07\n",
      "actual :  [0.]   prediction:   0.06\n",
      "actual :  [0.03]   prediction:   0.07\n",
      "actual :  [0.34]   prediction:   0.08\n",
      "actual :  [0.]   prediction:   0.11\n",
      "actual :  [0.52]   prediction:   0.11\n",
      "actual :  [0.]   prediction:   0.09\n",
      "actual :  [0.09]   prediction:   0.09\n",
      "actual :  [0.14]   prediction:   0.09\n",
      "actual :  [0.75]   prediction:   0.10\n"
     ]
    }
   ],
   "source": [
    "\n",
    "for i in range(0, len(y_forecast)):\n",
    "    print('actual : ' , y_forecast[i],'  prediction:  ',  \"{0:0.2f}\".format(y_forecast_predict[i]))"
   ]
  },
  {
   "cell_type": "code",
   "execution_count": 608,
   "metadata": {},
   "outputs": [
    {
     "data": {
      "text/plain": [
       "<matplotlib.legend.Legend at 0x1d53d7acdc0>"
      ]
     },
     "execution_count": 608,
     "metadata": {},
     "output_type": "execute_result"
    },
    {
     "data": {
      "image/png": "[encoded data removed]",
      "text/plain": [
       "<Figure size 432x288 with 1 Axes>"
      ]
     },
     "metadata": {
      "needs_background": "light"
     },
     "output_type": "display_data"
    }
   ],
   "source": [
    "plt.scatter(X_forecast[:,1], y_forecast)\n",
    "plt.scatter(X_forecast[:,1], y_forecast_predict)\n",
    "plt.xlabel(\"Hours (0 - 24 )\")\n",
    "plt.ylabel(\"Power\")\n",
    "plt.legend([\"Ground Truth\", \"Predicted\"])"
   ]
  },
  {
   "cell_type": "code",
   "execution_count": 609,
   "metadata": {},
   "outputs": [
    {
     "data": {
      "text/plain": [
       "<matplotlib.legend.Legend at 0x1d53bdec310>"
      ]
     },
     "execution_count": 609,
     "metadata": {},
     "output_type": "execute_result"
    },
    {
     "data": {
      "image/png": "[encoded data removed]",
      "text/plain": [
       "<Figure size 432x288 with 1 Axes>"
      ]
     },
     "metadata": {
      "needs_background": "light"
     },
     "output_type": "display_data"
    }
   ],
   "source": [
    "plt.plot(y_forecast)\n",
    "plt.plot(y_forecast_predict)\n",
    "plt.xlabel(\"Entries from datatset\")\n",
    "plt.ylabel(\"Power\")\n",
    "plt.legend([\"Ground Truth\", \"Predicted\"])"
   ]
  },
  {
   "cell_type": "code",
   "execution_count": 611,
   "metadata": {},
   "outputs": [
    {
     "data": {
      "text/plain": [
       "<matplotlib.legend.Legend at 0x1d53ef31d30>"
      ]
     },
     "execution_count": 611,
     "metadata": {},
     "output_type": "execute_result"
    },
    {
     "data": {
      "image/png": "[encoded data removed]",
      "text/plain": [
       "<Figure size 432x288 with 1 Axes>"
      ]
     },
     "metadata": {
      "needs_background": "light"
     },
     "output_type": "display_data"
    }
   ],
   "source": [
    "plt.scatter(X_forecast[:,0], y_forecast)\n",
    "plt.scatter(X_forecast[:,0], y_forecast_predict)\n",
    "\n",
    "plt.xlabel(\"WindSpeed\")\n",
    "plt.ylabel(\"Power\")\n",
    "plt.legend([\"Ground Truth\", \"Predicted\"])"
   ]
  },
  {
   "cell_type": "markdown",
   "metadata": {},
   "source": [
    "Conclusion:\n",
    "    \n",
    "- Overall performance was better with SVM regression model.\n",
    "\n",
    "- Performance of Decision Tree was very good when only trained and tested with measurement data. I suppose it was overfitting.\n",
    "\n",
    "- ANother thing that can be tried is to split both dates into day, month and year seperate columns and see if any of them have any correlation with power."
   ]
  },
  {
   "cell_type": "code",
   "execution_count": null,
   "metadata": {},
   "outputs": [],
   "source": []
  }
 ],
 "metadata": {
  "kernelspec": {
   "display_name": "Python 3",
   "language": "python",
   "name": "python3"
  },
  "language_info": {
   "codemirror_mode": {
    "name": "ipython",
    "version": 3
   },
   "file_extension": ".py",
   "mimetype": "text/x-python",
   "name": "python",
   "nbconvert_exporter": "python",
   "pygments_lexer": "ipython3",
   "version": "3.8.5"
  }
 },
 "nbformat": 4,
 "nbformat_minor": 4
}
